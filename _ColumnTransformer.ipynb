{
 "cells": [
  {
   "cell_type": "markdown",
   "id": "8c2264e7",
   "metadata": {},
   "source": [
    "### import libraries"
   ]
  },
  {
   "cell_type": "code",
   "execution_count": 39,
   "id": "b738efe7",
   "metadata": {},
   "outputs": [],
   "source": [
    "import pandas as pd\n",
    "from sklearn.model_selection import train_test_split\n",
    "from sklearn.compose import ColumnTransformer\n",
    "from sklearn.impute import SimpleImputer\n",
    "from sklearn.preprocessing import OrdinalEncoder,OneHotEncoder\n",
    "import numpy as np"
   ]
  },
  {
   "cell_type": "markdown",
   "id": "ebd4461f",
   "metadata": {},
   "source": [
    "### import dataset"
   ]
  },
  {
   "cell_type": "code",
   "execution_count": 2,
   "id": "b62f1b2d",
   "metadata": {},
   "outputs": [
    {
     "data": {
      "text/html": [
       "<div>\n",
       "<style scoped>\n",
       "    .dataframe tbody tr th:only-of-type {\n",
       "        vertical-align: middle;\n",
       "    }\n",
       "\n",
       "    .dataframe tbody tr th {\n",
       "        vertical-align: top;\n",
       "    }\n",
       "\n",
       "    .dataframe thead th {\n",
       "        text-align: right;\n",
       "    }\n",
       "</style>\n",
       "<table border=\"1\" class=\"dataframe\">\n",
       "  <thead>\n",
       "    <tr style=\"text-align: right;\">\n",
       "      <th></th>\n",
       "      <th>age</th>\n",
       "      <th>gender</th>\n",
       "      <th>fever</th>\n",
       "      <th>cough</th>\n",
       "      <th>city</th>\n",
       "      <th>has_covid</th>\n",
       "    </tr>\n",
       "  </thead>\n",
       "  <tbody>\n",
       "    <tr>\n",
       "      <th>0</th>\n",
       "      <td>60</td>\n",
       "      <td>Male</td>\n",
       "      <td>103.0</td>\n",
       "      <td>Mild</td>\n",
       "      <td>Kolkata</td>\n",
       "      <td>No</td>\n",
       "    </tr>\n",
       "    <tr>\n",
       "      <th>1</th>\n",
       "      <td>27</td>\n",
       "      <td>Male</td>\n",
       "      <td>100.0</td>\n",
       "      <td>Mild</td>\n",
       "      <td>Delhi</td>\n",
       "      <td>Yes</td>\n",
       "    </tr>\n",
       "    <tr>\n",
       "      <th>2</th>\n",
       "      <td>42</td>\n",
       "      <td>Male</td>\n",
       "      <td>101.0</td>\n",
       "      <td>Mild</td>\n",
       "      <td>Delhi</td>\n",
       "      <td>No</td>\n",
       "    </tr>\n",
       "    <tr>\n",
       "      <th>3</th>\n",
       "      <td>31</td>\n",
       "      <td>Female</td>\n",
       "      <td>98.0</td>\n",
       "      <td>Mild</td>\n",
       "      <td>Kolkata</td>\n",
       "      <td>No</td>\n",
       "    </tr>\n",
       "    <tr>\n",
       "      <th>4</th>\n",
       "      <td>65</td>\n",
       "      <td>Female</td>\n",
       "      <td>101.0</td>\n",
       "      <td>Mild</td>\n",
       "      <td>Mumbai</td>\n",
       "      <td>No</td>\n",
       "    </tr>\n",
       "  </tbody>\n",
       "</table>\n",
       "</div>"
      ],
      "text/plain": [
       "   age  gender  fever cough     city has_covid\n",
       "0   60    Male  103.0  Mild  Kolkata        No\n",
       "1   27    Male  100.0  Mild    Delhi       Yes\n",
       "2   42    Male  101.0  Mild    Delhi        No\n",
       "3   31  Female   98.0  Mild  Kolkata        No\n",
       "4   65  Female  101.0  Mild   Mumbai        No"
      ]
     },
     "execution_count": 2,
     "metadata": {},
     "output_type": "execute_result"
    }
   ],
   "source": [
    "df = pd.read_csv(\"columntransformer.csv\")\n",
    "df.head()"
   ]
  },
  {
   "cell_type": "markdown",
   "id": "bb3aed12",
   "metadata": {},
   "source": [
    "### Checking null values"
   ]
  },
  {
   "cell_type": "code",
   "execution_count": 5,
   "id": "af5a67e5",
   "metadata": {},
   "outputs": [
    {
     "data": {
      "text/plain": [
       "age           0\n",
       "gender        0\n",
       "fever        10\n",
       "cough         0\n",
       "city          0\n",
       "has_covid     0\n",
       "dtype: int64"
      ]
     },
     "execution_count": 5,
     "metadata": {},
     "output_type": "execute_result"
    }
   ],
   "source": [
    "df.isnull().sum()   ## fever having 10 null values"
   ]
  },
  {
   "cell_type": "markdown",
   "id": "d79e0334",
   "metadata": {},
   "source": [
    "### train_test_split"
   ]
  },
  {
   "cell_type": "code",
   "execution_count": 9,
   "id": "aaa5f459",
   "metadata": {},
   "outputs": [],
   "source": [
    "x_train,x_test,y_train,y_test=train_test_split(df.drop(columns=[\"has_covid\"]),df[\"has_covid\"],test_size=0.3,random_state=3)"
   ]
  },
  {
   "cell_type": "markdown",
   "id": "35d85afa",
   "metadata": {},
   "source": [
    "### replace null value with mean using simple imputer"
   ]
  },
  {
   "cell_type": "code",
   "execution_count": 10,
   "id": "fd1463b5",
   "metadata": {},
   "outputs": [],
   "source": [
    "si = SimpleImputer()"
   ]
  },
  {
   "cell_type": "code",
   "execution_count": 11,
   "id": "be399a7c",
   "metadata": {},
   "outputs": [],
   "source": [
    "x_train_fever = si.fit_transform(x_train[[\"fever\"]])\n",
    "x_test_fever = si.transform(x_test[[\"fever\"]])"
   ]
  },
  {
   "cell_type": "code",
   "execution_count": 20,
   "id": "b08660ad",
   "metadata": {},
   "outputs": [
    {
     "data": {
      "text/plain": [
       "array([[101.        ],\n",
       "       [100.75409836],\n",
       "       [102.        ],\n",
       "       [103.        ],\n",
       "       [100.        ],\n",
       "       [ 98.        ],\n",
       "       [ 98.        ],\n",
       "       [103.        ],\n",
       "       [101.        ],\n",
       "       [102.        ],\n",
       "       [103.        ],\n",
       "       [102.        ],\n",
       "       [102.        ],\n",
       "       [101.        ],\n",
       "       [102.        ],\n",
       "       [ 99.        ],\n",
       "       [100.        ],\n",
       "       [100.        ],\n",
       "       [104.        ],\n",
       "       [101.        ],\n",
       "       [ 98.        ],\n",
       "       [101.        ],\n",
       "       [ 99.        ],\n",
       "       [ 98.        ],\n",
       "       [ 98.        ],\n",
       "       [100.75409836],\n",
       "       [ 99.        ],\n",
       "       [104.        ],\n",
       "       [ 99.        ],\n",
       "       [101.        ],\n",
       "       [104.        ],\n",
       "       [100.        ],\n",
       "       [ 98.        ],\n",
       "       [103.        ],\n",
       "       [104.        ],\n",
       "       [101.        ],\n",
       "       [100.        ],\n",
       "       [ 99.        ],\n",
       "       [ 98.        ],\n",
       "       [ 99.        ],\n",
       "       [100.75409836],\n",
       "       [104.        ],\n",
       "       [ 98.        ],\n",
       "       [100.75409836],\n",
       "       [103.        ],\n",
       "       [100.        ],\n",
       "       [100.        ],\n",
       "       [102.        ],\n",
       "       [100.        ],\n",
       "       [101.        ],\n",
       "       [104.        ],\n",
       "       [ 98.        ],\n",
       "       [ 99.        ],\n",
       "       [100.        ],\n",
       "       [104.        ],\n",
       "       [103.        ],\n",
       "       [102.        ],\n",
       "       [ 98.        ],\n",
       "       [101.        ],\n",
       "       [100.75409836],\n",
       "       [100.75409836],\n",
       "       [100.75409836],\n",
       "       [104.        ],\n",
       "       [100.75409836],\n",
       "       [ 98.        ],\n",
       "       [103.        ],\n",
       "       [101.        ],\n",
       "       [100.75409836],\n",
       "       [ 98.        ],\n",
       "       [100.        ]])"
      ]
     },
     "execution_count": 20,
     "metadata": {},
     "output_type": "execute_result"
    }
   ],
   "source": [
    "x_train_fever"
   ]
  },
  {
   "cell_type": "markdown",
   "id": "4bbcfa60",
   "metadata": {},
   "source": [
    "### Ordinal encoding on cough variable"
   ]
  },
  {
   "cell_type": "code",
   "execution_count": 15,
   "id": "b7799adf",
   "metadata": {},
   "outputs": [],
   "source": [
    "oe = OrdinalEncoder(categories=[[\"Mild\",\"Strong\"]])"
   ]
  },
  {
   "cell_type": "code",
   "execution_count": 16,
   "id": "2fe9fb36",
   "metadata": {},
   "outputs": [],
   "source": [
    "x_train_cough = oe.fit_transform(x_train[[\"cough\"]])\n",
    "x_test_cough = oe.transform(x_test[[\"cough\"]])"
   ]
  },
  {
   "cell_type": "code",
   "execution_count": 21,
   "id": "565f5975",
   "metadata": {},
   "outputs": [
    {
     "data": {
      "text/plain": [
       "array([[0.],\n",
       "       [0.],\n",
       "       [0.],\n",
       "       [0.],\n",
       "       [0.],\n",
       "       [0.],\n",
       "       [1.],\n",
       "       [0.],\n",
       "       [1.],\n",
       "       [0.],\n",
       "       [0.],\n",
       "       [1.],\n",
       "       [1.],\n",
       "       [0.],\n",
       "       [1.],\n",
       "       [1.],\n",
       "       [0.],\n",
       "       [0.],\n",
       "       [1.],\n",
       "       [0.],\n",
       "       [0.],\n",
       "       [1.],\n",
       "       [0.],\n",
       "       [1.],\n",
       "       [0.],\n",
       "       [0.],\n",
       "       [1.],\n",
       "       [0.],\n",
       "       [0.],\n",
       "       [0.],\n",
       "       [0.],\n",
       "       [1.],\n",
       "       [1.],\n",
       "       [1.],\n",
       "       [0.],\n",
       "       [1.],\n",
       "       [0.],\n",
       "       [1.],\n",
       "       [0.],\n",
       "       [0.],\n",
       "       [1.],\n",
       "       [1.],\n",
       "       [1.],\n",
       "       [1.],\n",
       "       [0.],\n",
       "       [1.],\n",
       "       [0.],\n",
       "       [1.],\n",
       "       [0.],\n",
       "       [0.],\n",
       "       [0.],\n",
       "       [1.],\n",
       "       [0.],\n",
       "       [0.],\n",
       "       [0.],\n",
       "       [0.],\n",
       "       [1.],\n",
       "       [1.],\n",
       "       [0.],\n",
       "       [1.],\n",
       "       [0.],\n",
       "       [0.],\n",
       "       [1.],\n",
       "       [1.],\n",
       "       [0.],\n",
       "       [0.],\n",
       "       [0.],\n",
       "       [1.],\n",
       "       [0.],\n",
       "       [1.]])"
      ]
     },
     "execution_count": 21,
     "metadata": {},
     "output_type": "execute_result"
    }
   ],
   "source": [
    "x_train_cough"
   ]
  },
  {
   "cell_type": "markdown",
   "id": "3132b01e",
   "metadata": {},
   "source": [
    "### apply Onehotencoder on gender and city variable"
   ]
  },
  {
   "cell_type": "code",
   "execution_count": 31,
   "id": "459e211d",
   "metadata": {},
   "outputs": [],
   "source": [
    "ohe = OneHotEncoder(sparse_output=False,handle_unknown=\"ignore\")"
   ]
  },
  {
   "cell_type": "code",
   "execution_count": 32,
   "id": "cce5bad4",
   "metadata": {},
   "outputs": [],
   "source": [
    "x_train_city_gender = ohe.fit_transform(x_train[[\"gender\",\"city\"]])\n",
    "x_test_city_gender = ohe.transform(x_test[[\"gender\",\"city\"]])"
   ]
  },
  {
   "cell_type": "code",
   "execution_count": 35,
   "id": "d311489b",
   "metadata": {},
   "outputs": [
    {
     "data": {
      "text/plain": [
       "array([[0., 1., 0., 1., 0., 0.],\n",
       "       [1., 0., 1., 0., 0., 0.],\n",
       "       [0., 1., 1., 0., 0., 0.],\n",
       "       [0., 1., 0., 0., 1., 0.],\n",
       "       [1., 0., 0., 0., 1., 0.],\n",
       "       [1., 0., 0., 0., 0., 1.],\n",
       "       [0., 1., 0., 0., 0., 1.],\n",
       "       [1., 0., 1., 0., 0., 0.],\n",
       "       [1., 0., 0., 1., 0., 0.],\n",
       "       [1., 0., 0., 1., 0., 0.],\n",
       "       [1., 0., 0., 0., 1., 0.],\n",
       "       [1., 0., 0., 1., 0., 0.],\n",
       "       [1., 0., 1., 0., 0., 0.],\n",
       "       [1., 0., 1., 0., 0., 0.],\n",
       "       [1., 0., 0., 0., 1., 0.],\n",
       "       [1., 0., 0., 1., 0., 0.],\n",
       "       [0., 1., 1., 0., 0., 0.],\n",
       "       [0., 1., 1., 0., 0., 0.],\n",
       "       [1., 0., 0., 0., 1., 0.],\n",
       "       [1., 0., 0., 0., 0., 1.],\n",
       "       [0., 1., 0., 1., 0., 0.],\n",
       "       [1., 0., 0., 1., 0., 0.],\n",
       "       [1., 0., 0., 0., 0., 1.],\n",
       "       [1., 0., 0., 0., 0., 1.],\n",
       "       [1., 0., 1., 0., 0., 0.],\n",
       "       [0., 1., 0., 1., 0., 0.],\n",
       "       [1., 0., 1., 0., 0., 0.],\n",
       "       [1., 0., 1., 0., 0., 0.],\n",
       "       [1., 0., 0., 0., 0., 1.],\n",
       "       [1., 0., 0., 0., 0., 1.],\n",
       "       [0., 1., 0., 0., 1., 0.],\n",
       "       [1., 0., 1., 0., 0., 0.],\n",
       "       [1., 0., 0., 0., 0., 1.],\n",
       "       [0., 1., 1., 0., 0., 0.],\n",
       "       [0., 1., 0., 0., 0., 1.],\n",
       "       [0., 1., 1., 0., 0., 0.],\n",
       "       [0., 1., 0., 0., 1., 0.],\n",
       "       [0., 1., 1., 0., 0., 0.],\n",
       "       [1., 0., 0., 0., 1., 0.],\n",
       "       [1., 0., 1., 0., 0., 0.],\n",
       "       [1., 0., 0., 0., 0., 1.],\n",
       "       [1., 0., 1., 0., 0., 0.],\n",
       "       [1., 0., 0., 0., 1., 0.],\n",
       "       [1., 0., 0., 0., 0., 1.],\n",
       "       [1., 0., 0., 1., 0., 0.],\n",
       "       [1., 0., 0., 0., 1., 0.],\n",
       "       [0., 1., 0., 1., 0., 0.],\n",
       "       [1., 0., 1., 0., 0., 0.],\n",
       "       [0., 1., 1., 0., 0., 0.],\n",
       "       [0., 1., 0., 1., 0., 0.],\n",
       "       [0., 1., 0., 0., 1., 0.],\n",
       "       [1., 0., 0., 0., 1., 0.],\n",
       "       [0., 1., 0., 1., 0., 0.],\n",
       "       [1., 0., 0., 0., 1., 0.],\n",
       "       [0., 1., 1., 0., 0., 0.],\n",
       "       [1., 0., 0., 0., 1., 0.],\n",
       "       [0., 1., 0., 1., 0., 0.],\n",
       "       [0., 1., 1., 0., 0., 0.],\n",
       "       [1., 0., 0., 1., 0., 0.],\n",
       "       [0., 1., 0., 0., 1., 0.],\n",
       "       [1., 0., 0., 1., 0., 0.],\n",
       "       [0., 1., 0., 0., 1., 0.],\n",
       "       [1., 0., 0., 1., 0., 0.],\n",
       "       [1., 0., 1., 0., 0., 0.],\n",
       "       [0., 1., 1., 0., 0., 0.],\n",
       "       [0., 1., 0., 0., 1., 0.],\n",
       "       [1., 0., 0., 0., 1., 0.],\n",
       "       [0., 1., 0., 0., 1., 0.],\n",
       "       [1., 0., 0., 0., 1., 0.],\n",
       "       [1., 0., 0., 0., 1., 0.]])"
      ]
     },
     "execution_count": 35,
     "metadata": {},
     "output_type": "execute_result"
    }
   ],
   "source": [
    "x_train_city_gender"
   ]
  },
  {
   "cell_type": "markdown",
   "id": "76225bfc",
   "metadata": {},
   "source": [
    "### seperate age column"
   ]
  },
  {
   "cell_type": "code",
   "execution_count": 36,
   "id": "e182ea45",
   "metadata": {},
   "outputs": [],
   "source": [
    "x_train_age=x_train.drop(columns=[\"fever\",\"cough\",\"gender\",\"city\"])\n",
    "x_test_age=x_test.drop(columns=[\"fever\",\"cough\",\"gender\",\"city\"])"
   ]
  },
  {
   "cell_type": "code",
   "execution_count": 38,
   "id": "ca05d93d",
   "metadata": {},
   "outputs": [
    {
     "data": {
      "text/html": [
       "<div>\n",
       "<style scoped>\n",
       "    .dataframe tbody tr th:only-of-type {\n",
       "        vertical-align: middle;\n",
       "    }\n",
       "\n",
       "    .dataframe tbody tr th {\n",
       "        vertical-align: top;\n",
       "    }\n",
       "\n",
       "    .dataframe thead th {\n",
       "        text-align: right;\n",
       "    }\n",
       "</style>\n",
       "<table border=\"1\" class=\"dataframe\">\n",
       "  <thead>\n",
       "    <tr style=\"text-align: right;\">\n",
       "      <th></th>\n",
       "      <th>age</th>\n",
       "    </tr>\n",
       "  </thead>\n",
       "  <tbody>\n",
       "    <tr>\n",
       "      <th>30</th>\n",
       "      <td>15</td>\n",
       "    </tr>\n",
       "    <tr>\n",
       "      <th>5</th>\n",
       "      <td>84</td>\n",
       "    </tr>\n",
       "    <tr>\n",
       "      <th>13</th>\n",
       "      <td>64</td>\n",
       "    </tr>\n",
       "    <tr>\n",
       "      <th>31</th>\n",
       "      <td>83</td>\n",
       "    </tr>\n",
       "    <tr>\n",
       "      <th>88</th>\n",
       "      <td>5</td>\n",
       "    </tr>\n",
       "    <tr>\n",
       "      <th>...</th>\n",
       "      <td>...</td>\n",
       "    </tr>\n",
       "    <tr>\n",
       "      <th>0</th>\n",
       "      <td>60</td>\n",
       "    </tr>\n",
       "    <tr>\n",
       "      <th>72</th>\n",
       "      <td>83</td>\n",
       "    </tr>\n",
       "    <tr>\n",
       "      <th>56</th>\n",
       "      <td>71</td>\n",
       "    </tr>\n",
       "    <tr>\n",
       "      <th>3</th>\n",
       "      <td>31</td>\n",
       "    </tr>\n",
       "    <tr>\n",
       "      <th>24</th>\n",
       "      <td>13</td>\n",
       "    </tr>\n",
       "  </tbody>\n",
       "</table>\n",
       "<p>70 rows × 1 columns</p>\n",
       "</div>"
      ],
      "text/plain": [
       "    age\n",
       "30   15\n",
       "5    84\n",
       "13   64\n",
       "31   83\n",
       "88    5\n",
       "..  ...\n",
       "0    60\n",
       "72   83\n",
       "56   71\n",
       "3    31\n",
       "24   13\n",
       "\n",
       "[70 rows x 1 columns]"
      ]
     },
     "execution_count": 38,
     "metadata": {},
     "output_type": "execute_result"
    }
   ],
   "source": [
    "x_train_age"
   ]
  },
  {
   "cell_type": "markdown",
   "id": "d8a9ea1c",
   "metadata": {},
   "source": [
    "### concat all columns"
   ]
  },
  {
   "cell_type": "code",
   "execution_count": 44,
   "id": "5dd3ec20",
   "metadata": {},
   "outputs": [],
   "source": [
    "x_train_final = np.concatenate((x_train_fever,x_train_city_gender,x_train_cough,x_train_age),axis=1)\n",
    "x_test_final = np.concatenate((x_test_fever,x_test_city_gender,x_test_cough,x_test_age),axis=1)"
   ]
  },
  {
   "cell_type": "code",
   "execution_count": 45,
   "id": "01ea8428",
   "metadata": {},
   "outputs": [
    {
     "data": {
      "text/plain": [
       "(70, 9)"
      ]
     },
     "execution_count": 45,
     "metadata": {},
     "output_type": "execute_result"
    }
   ],
   "source": [
    "x_train_final.shape"
   ]
  },
  {
   "cell_type": "markdown",
   "id": "3f59a4a5",
   "metadata": {},
   "source": [
    "### Doing all these steps using column transformer"
   ]
  },
  {
   "cell_type": "code",
   "execution_count": 53,
   "id": "7e5651bf",
   "metadata": {},
   "outputs": [],
   "source": [
    "transformer = ColumnTransformer(transformers=[\n",
    "    (\"tf1\",SimpleImputer(),[\"fever\"]),\n",
    "    (\"tf2\",OrdinalEncoder(categories=[[\"Mild\",\"Strong\"]]),[\"cough\"]),\n",
    "    (\"tf3\",OneHotEncoder(sparse_output=False,handle_unknown=\"ignore\"),[\"gender\",\"city\"])\n",
    "],remainder=\"passthrough\")"
   ]
  },
  {
   "cell_type": "code",
   "execution_count": 54,
   "id": "7327c6a5",
   "metadata": {},
   "outputs": [],
   "source": [
    "x_train_finally = transformer.fit_transform(x_train)\n",
    "x_test_finally = transformer.transform(x_test)"
   ]
  },
  {
   "cell_type": "code",
   "execution_count": 55,
   "id": "5dd6cbfd",
   "metadata": {},
   "outputs": [
    {
     "data": {
      "text/plain": [
       "(70, 9)"
      ]
     },
     "execution_count": 55,
     "metadata": {},
     "output_type": "execute_result"
    }
   ],
   "source": [
    "x_train_finally.shape"
   ]
  },
  {
   "cell_type": "code",
   "execution_count": null,
   "id": "86200a01",
   "metadata": {},
   "outputs": [],
   "source": []
  }
 ],
 "metadata": {
  "kernelspec": {
   "display_name": "Python 3 (ipykernel)",
   "language": "python",
   "name": "python3"
  },
  "language_info": {
   "codemirror_mode": {
    "name": "ipython",
    "version": 3
   },
   "file_extension": ".py",
   "mimetype": "text/x-python",
   "name": "python",
   "nbconvert_exporter": "python",
   "pygments_lexer": "ipython3",
   "version": "3.11.7"
  }
 },
 "nbformat": 4,
 "nbformat_minor": 5
}
